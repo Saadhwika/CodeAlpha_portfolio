{
 "cells": [
  {
   "cell_type": "code",
   "execution_count": 2,
   "id": "2d8a3831-d9ac-45ba-886c-71770c81e521",
   "metadata": {},
   "outputs": [
    {
     "name": "stdout",
     "output_type": "stream",
     "text": [
      "Welcome to Stock Portfolio Tracker!\n",
      "Available stocks: AAPL, TSLA, GOOGL, AMZN, MSFT, META\n"
     ]
    },
    {
     "name": "stdin",
     "output_type": "stream",
     "text": [
      "Enter stock symbol (or 'done' to finish):  AAPL\n",
      "Enter quantity of AAPL:  10\n",
      "Enter stock symbol (or 'done' to finish):  done\n"
     ]
    },
    {
     "name": "stdout",
     "output_type": "stream",
     "text": [
      "\n",
      "Your Portfolio:\n",
      "------------------------------\n",
      "Stock      Price      Qty        Value     \n",
      "------------------------------\n",
      "AAPL       $180.50    10.0       $1805.00   \n",
      "------------------------------\n",
      "Total Investment: $1805.00\n"
     ]
    },
    {
     "name": "stdin",
     "output_type": "stream",
     "text": [
      "\n",
      "Would you like to save this portfolio? (yes/no):  yes\n",
      "Enter filename (without extension):  stock\n"
     ]
    },
    {
     "name": "stdout",
     "output_type": "stream",
     "text": [
      "Portfolio saved to stock.txt\n",
      "\n",
      "Thank you for using Stock Portfolio Tracker!\n"
     ]
    }
   ],
   "source": [
    "def stock_portfolio_tracker():\n",
    "    # Hardcoded stock prices\n",
    "    stock_prices = {\n",
    "        \"AAPL\": 180.50,\n",
    "        \"TSLA\": 250.75,\n",
    "        \"GOOGL\": 135.20,\n",
    "        \"AMZN\": 150.30,\n",
    "        \"MSFT\": 300.40,\n",
    "        \"META\": 320.15\n",
    "    }\n",
    "    \n",
    "    print(\"Welcome to Stock Portfolio Tracker!\")\n",
    "    print(\"Available stocks:\", \", \".join(stock_prices.keys()))\n",
    "    \n",
    "    portfolio = {}\n",
    "    while True:\n",
    "        stock_name = input(\"Enter stock symbol (or 'done' to finish): \").upper()\n",
    "        \n",
    "        if stock_name == 'DONE':\n",
    "            break\n",
    "            \n",
    "        if stock_name not in stock_prices:\n",
    "            print(f\"Error: {stock_name} not found in our database. Available stocks are: {', '.join(stock_prices.keys())}\")\n",
    "            continue\n",
    "            \n",
    "        try:\n",
    "            quantity = float(input(f\"Enter quantity of {stock_name}: \"))\n",
    "            if quantity <= 0:\n",
    "                print(\"Quantity must be positive.\")\n",
    "                continue\n",
    "            portfolio[stock_name] = quantity\n",
    "        except ValueError:\n",
    "            print(\"Invalid quantity. Please enter a number.\")\n",
    "    \n",
    "    # Calculate total investment\n",
    "    total_investment = 0\n",
    "    print(\"\\nYour Portfolio:\")\n",
    "    print(\"-\" * 30)\n",
    "    print(\"{:<10} {:<10} {:<10} {:<10}\".format(\"Stock\", \"Price\", \"Qty\", \"Value\"))\n",
    "    print(\"-\" * 30)\n",
    "    \n",
    "    for stock, qty in portfolio.items():\n",
    "        price = stock_prices[stock]\n",
    "        value = price * qty\n",
    "        total_investment += value\n",
    "        print(\"{:<10} ${:<9.2f} {:<10} ${:<10.2f}\".format(stock, price, qty, value))\n",
    "    \n",
    "    print(\"-\" * 30)\n",
    "    print(f\"Total Investment: ${total_investment:.2f}\")\n",
    "    \n",
    "    # Save to file\n",
    "    save_option = input(\"\\nWould you like to save this portfolio? (yes/no): \").lower()\n",
    "    if save_option == 'yes':\n",
    "        filename = input(\"Enter filename (without extension): \")\n",
    "        with open(f\"{filename}.txt\", \"w\") as f:\n",
    "            f.write(\"Stock Portfolio Summary\\n\")\n",
    "            f.write(\"=\" * 30 + \"\\n\")\n",
    "            f.write(\"{:<10} {:<10} {:<10} {:<10}\\n\".format(\"Stock\", \"Price\", \"Qty\", \"Value\"))\n",
    "            f.write(\"-\" * 30 + \"\\n\")\n",
    "            for stock, qty in portfolio.items():\n",
    "                price = stock_prices[stock]\n",
    "                value = price * qty\n",
    "                f.write(\"{:<10} ${:<9.2f} {:<10} ${:<10.2f}\\n\".format(stock, price, qty, value))\n",
    "            f.write(\"-\" * 30 + \"\\n\")\n",
    "            f.write(f\"Total Investment: ${total_investment:.2f}\\n\")\n",
    "        print(f\"Portfolio saved to {filename}.txt\")\n",
    "    \n",
    "    print(\"\\nThank you for using Stock Portfolio Tracker!\")\n",
    "\n",
    "# Run the program\n",
    "if __name__ == \"__main__\":\n",
    "    stock_portfolio_tracker()"
   ]
  },
  {
   "cell_type": "code",
   "execution_count": null,
   "id": "0d39ca92-81ac-4cea-9e59-91984abc55b7",
   "metadata": {},
   "outputs": [],
   "source": []
  }
 ],
 "metadata": {
  "kernelspec": {
   "display_name": "Python 3 (ipykernel)",
   "language": "python",
   "name": "python3"
  },
  "language_info": {
   "codemirror_mode": {
    "name": "ipython",
    "version": 3
   },
   "file_extension": ".py",
   "mimetype": "text/x-python",
   "name": "python",
   "nbconvert_exporter": "python",
   "pygments_lexer": "ipython3",
   "version": "3.12.7"
  }
 },
 "nbformat": 4,
 "nbformat_minor": 5
}
